{
 "cells": [
  {
   "cell_type": "markdown",
   "metadata": {
    "deletable": true,
    "editable": true
   },
   "source": [
    "## IS362 Project 1\n",
    "### Flight delays\n",
    "\n",
    "Code:\n",
    "\n",
    "Importing CSV File(on Mac OS X)"
   ]
  },
  {
   "cell_type": "code",
   "execution_count": 8,
   "metadata": {
    "collapsed": false,
    "deletable": true,
    "editable": true
   },
   "outputs": [
    {
     "data": {
      "text/html": [
       "<div>\n",
       "<table border=\"1\" class=\"dataframe\">\n",
       "  <thead>\n",
       "    <tr style=\"text-align: right;\">\n",
       "      <th></th>\n",
       "      <th>Airlines</th>\n",
       "      <th>Status</th>\n",
       "      <th>Los Angeles</th>\n",
       "      <th>Pheonix</th>\n",
       "      <th>San Diego</th>\n",
       "      <th>San Franciso</th>\n",
       "      <th>Seattle</th>\n",
       "    </tr>\n",
       "  </thead>\n",
       "  <tbody>\n",
       "    <tr>\n",
       "      <th>0</th>\n",
       "      <td>ALASKA</td>\n",
       "      <td>on time</td>\n",
       "      <td>497</td>\n",
       "      <td>221</td>\n",
       "      <td>212</td>\n",
       "      <td>503</td>\n",
       "      <td>1841</td>\n",
       "    </tr>\n",
       "    <tr>\n",
       "      <th>1</th>\n",
       "      <td>ALASKA</td>\n",
       "      <td>delayed</td>\n",
       "      <td>62</td>\n",
       "      <td>12</td>\n",
       "      <td>20</td>\n",
       "      <td>102</td>\n",
       "      <td>305</td>\n",
       "    </tr>\n",
       "    <tr>\n",
       "      <th>2</th>\n",
       "      <td>AM WEST</td>\n",
       "      <td>on time</td>\n",
       "      <td>594</td>\n",
       "      <td>4840</td>\n",
       "      <td>383</td>\n",
       "      <td>320</td>\n",
       "      <td>201</td>\n",
       "    </tr>\n",
       "    <tr>\n",
       "      <th>3</th>\n",
       "      <td>AM WEST</td>\n",
       "      <td>delayed</td>\n",
       "      <td>117</td>\n",
       "      <td>415</td>\n",
       "      <td>65</td>\n",
       "      <td>129</td>\n",
       "      <td>61</td>\n",
       "    </tr>\n",
       "  </tbody>\n",
       "</table>\n",
       "</div>"
      ],
      "text/plain": [
       "  Airlines   Status  Los Angeles  Pheonix  San Diego  San Franciso  Seattle\n",
       "0   ALASKA  on time          497      221        212           503     1841\n",
       "1   ALASKA  delayed           62       12         20           102      305\n",
       "2  AM WEST  on time          594     4840        383           320      201\n",
       "3  AM WEST  delayed          117      415         65           129       61"
      ]
     },
     "execution_count": 8,
     "metadata": {},
     "output_type": "execute_result"
    }
   ],
   "source": [
    "'''Flight Delays'''\n",
    "\n",
    "import pandas as pd\n",
    "import numpy as np\n",
    "import os\n",
    "\n",
    "Location = open(os.path.expanduser(r'~/IS362_Spring_2017/Project_1/delays.csv'))\n",
    "\n",
    "df = pd.read_csv(Location)\n",
    "\n",
    "df.head()"
   ]
  },
  {
   "cell_type": "markdown",
   "metadata": {
    "deletable": true,
    "editable": true
   },
   "source": [
    "Analysis:"
   ]
  },
  {
   "cell_type": "code",
   "execution_count": 9,
   "metadata": {
    "collapsed": false
   },
   "outputs": [
    {
     "name": "stdout",
     "output_type": "stream",
     "text": [
      "                  Los Angeles  Pheonix  San Diego  San Franciso  Seattle  \\\n",
      "Airlines Status                                                            \n",
      "ALASKA   on time          497      221        212           503     1841   \n",
      "         delayed           62       12         20           102      305   \n",
      "AM WEST  on time          594     4840        383           320      201   \n",
      "         delayed          117      415         65           129       61   \n",
      "\n",
      "                  Total  \n",
      "Airlines Status          \n",
      "ALASKA   on time   3274  \n",
      "         delayed    501  \n",
      "AM WEST  on time   6338  \n",
      "         delayed    787  \n",
      "Delays Stats: \n",
      " Alaska Airlines\n",
      " Los Angeles     11.09\n",
      "Pheonix          5.15\n",
      "San Diego        8.62\n",
      "San Franciso    16.86\n",
      "Seattle         14.21\n",
      "dtype: float64 \n",
      " --------------- \n",
      " AM West Airlines\n",
      " Los Angeles     16.46\n",
      "Pheonix          7.90\n",
      "San Diego       14.51\n",
      "San Franciso    28.73\n",
      "Seattle         23.28\n",
      "dtype: float64 \n",
      " --------------- \n",
      " Alaska Airlines flights delayed:  13.27 %\n",
      " AM West Airlines flights delayed:  11.05 %\n"
     ]
    }
   ],
   "source": [
    "sumofrows = df.set_index(['Airlines', 'Status'])\n",
    "sumofrows['Total'] = sumofrows.sum(axis=1)\n",
    "\n",
    "print(sumofrows)\n",
    "\n",
    "\n",
    "alaska_total = sumofrows.xs('ALASKA').xs('delayed') + sumofrows.xs('ALASKA').xs('on time')\n",
    "amwest_total = sumofrows.xs('AM WEST').xs('delayed') + sumofrows.xs('AM WEST').xs('on time')\n",
    "\n",
    "alaska_totaldelay = sumofrows.xs('ALASKA').xs('delayed')\n",
    "alaska_delay = (alaska_totaldelay/alaska_total*100).round(2)\n",
    "\n",
    "amwest_totaldelay = sumofrows.xs('AM WEST').xs('delayed')\n",
    "amwest_delay = (amwest_totaldelay/amwest_total*100).round(2)\n",
    "\n",
    "print('Delays Stats: \\n Alaska Airlines\\n'\n",
    "      ,alaska_delay[0:-1], '\\n --------------- \\n AM West Airlines\\n'\n",
    "      ,amwest_delay[0:-1], '\\n --------------- \\n'\n",
    "      ,'Alaska Airlines flights delayed: ',alaska_delay[-1],'%\\n'\n",
    "      ,'AM West Airlines flights delayed: ',amwest_delay[-1],'%'\n",
    "     )"
   ]
  }
 ],
 "metadata": {
  "kernelspec": {
   "display_name": "Python 3",
   "language": "python",
   "name": "python3"
  },
  "language_info": {
   "codemirror_mode": {
    "name": "ipython",
    "version": 3
   },
   "file_extension": ".py",
   "mimetype": "text/x-python",
   "name": "python",
   "nbconvert_exporter": "python",
   "pygments_lexer": "ipython3",
   "version": "3.5.1"
  }
 },
 "nbformat": 4,
 "nbformat_minor": 2
}
